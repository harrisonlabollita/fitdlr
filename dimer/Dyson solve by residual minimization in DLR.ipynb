{
 "cells": [
  {
   "cell_type": "code",
   "execution_count": 1,
   "id": "31349fe4",
   "metadata": {},
   "outputs": [
    {
     "name": "stdout",
     "output_type": "stream",
     "text": [
      "Warning: could not identify MPI environment!\n"
     ]
    },
    {
     "name": "stderr",
     "output_type": "stream",
     "text": [
      "Starting serial run at: 2023-02-10 16:17:37.048414\n"
     ]
    }
   ],
   "source": [
    "from pydlr import kernel, dlr\n",
    "from triqs.gf import *\n",
    "from h5 import HDFArchive\n",
    "import numpy as np\n",
    "from scipy.optimize import minimize, LinearConstraint, NonlinearConstraint\n",
    "\n",
    "import matplotlib.pyplot as plt\n",
    "plt.style.use('publish')\n",
    "\n",
    "from dimer import *\n",
    "from common import *"
   ]
  },
  {
   "cell_type": "code",
   "execution_count": 2,
   "id": "c046f982",
   "metadata": {},
   "outputs": [],
   "source": [
    "sigma_moments = sigma_high_frequency_moments(dm, hdiag, gf_struct, h_int)\n",
    "sig_infty, sigma_1 = sigma_moments['up'][0], sigma_moments['up'][1]"
   ]
  },
  {
   "cell_type": "code",
   "execution_count": 3,
   "id": "4732a0a8",
   "metadata": {},
   "outputs": [],
   "source": [
    "d = dlr(lamb=30)\n",
    "freq = d.get_matsubara_frequencies(beta)\n",
    "G0_tau = make_gf_from_fourier(G0_iw)\n",
    "tau_i = np.array([x.real for x in G0_tau.mesh])\n",
    "iw_i  = np.array([complex(x) for x in Sigma_iw_ref.mesh])"
   ]
  },
  {
   "cell_type": "code",
   "execution_count": 4,
   "id": "fe7f3eff",
   "metadata": {},
   "outputs": [],
   "source": [
    "g_iaa = G_tau_ref['up'].data\n",
    "g0_iaa = G0_tau['up'].data\n",
    "g_xaa = d.lstsq_dlr_from_tau(tau_i, g_iaa, beta)\n",
    "g0_xaa = d.lstsq_dlr_from_tau(tau_i, g0_iaa, beta)"
   ]
  },
  {
   "cell_type": "code",
   "execution_count": 5,
   "id": "c9bd1aad",
   "metadata": {},
   "outputs": [],
   "source": [
    "gk_iwaa = d.matsubara_from_dlr(g_xaa, beta)\n",
    "g0k_iwaa = d.matsubara_from_dlr(g0_xaa, beta)"
   ]
  },
  {
   "cell_type": "code",
   "execution_count": 6,
   "id": "5a69565d",
   "metadata": {},
   "outputs": [],
   "source": [
    "σk_iwaa = np.linalg.inv(g0k_iwaa[:,...])-np.linalg.inv(gk_iwaa[:,...])"
   ]
  },
  {
   "cell_type": "code",
   "execution_count": 102,
   "id": "8211165d",
   "metadata": {},
   "outputs": [],
   "source": [
    "rk_iwaa = gk_iwaa - g0k_iwaa[:,...]@σk_iwaa[:,...]@gk_iwaa[:,...]  - g0k_iwaa"
   ]
  },
  {
   "cell_type": "code",
   "execution_count": 103,
   "id": "26cccdea",
   "metadata": {},
   "outputs": [],
   "source": [
    "r_xaa = d.lstsq_dlr_from_matsubara(freq, rk_iwaa, beta)"
   ]
  },
  {
   "cell_type": "code",
   "execution_count": 117,
   "id": "ffb49be5",
   "metadata": {},
   "outputs": [],
   "source": [
    "Mkl = np.zeros((len(d), len(d)))\n",
    "for iwk, wk in enumerate(d.dlrrf):\n",
    "    for iwl, wl in enumerate(d.dlrrf):\n",
    "        K0wk, Kbwk = kernel(np.array([0,1]), np.array([wk])).flatten()\n",
    "        K0wl, Kbwl = kernel(np.array([0, 1]), np.array([wl])).flatten()\n",
    "        if np.fabs(wk+wl) < 1e-13:\n",
    "            Mkl[iwk,iwl] = K0wk*K0wl\n",
    "        else:\n",
    "            Mkl[iwk, iwl] = (1/(beta*(wk+wl)))*(K0wk*K0wl - Kbwk*Kbwl)"
   ]
  },
  {
   "cell_type": "code",
   "execution_count": 118,
   "id": "19a8c0a1",
   "metadata": {},
   "outputs": [
    {
     "data": {
      "text/plain": [
       "3.636843318108796e-15"
      ]
     },
     "execution_count": 118,
     "metadata": {},
     "output_type": "execute_result"
    }
   ],
   "source": [
    "np.linalg.norm(np.einsum('nmk,kl,lnm->nm', r_xaa.T, Mkl, r_xaa).flatten())"
   ]
  },
  {
   "cell_type": "code",
   "execution_count": 111,
   "id": "5b2a1bdf",
   "metadata": {},
   "outputs": [],
   "source": [
    "sym = Symmetrizer(len(d), 2)\n",
    "nx, no = len(d), 2\n",
    "dtype=complex\n",
    "def merge_re_im(x):\n",
    "    x_d, x_u = x[:nx*no], x[nx*no:]\n",
    "    re, im = np.split(x_u, 2)\n",
    "    x_u = re + 1.j * im\n",
    "    return x_d, x_u\n",
    "\n",
    "def split_re_im(x_d, x_u):\n",
    "    return np.concatenate((\n",
    "            np.array(x_d.real, dtype=float),\n",
    "            np.array(x_u.real, dtype=float),\n",
    "            np.array(x_u.imag, dtype=float)))\n",
    "def g_from_x(x):\n",
    "    x_d, x_u = merge_re_im(x)\n",
    "    g_xaa = np.zeros((nx, no, no), dtype=dtype)\n",
    "    sym.set_x_u(g_xaa, x_u)\n",
    "    sym.set_x_d(g_xaa, x_d)\n",
    "    return g_xaa\n",
    "                        \n",
    "def x_from_g(g_xaa):\n",
    "    x_d = sym.get_x_d(g_xaa)\n",
    "    x_u = sym.get_x_u(g_xaa)\n",
    "    x = split_re_im(x_d, x_u)\n",
    "    return x"
   ]
  },
  {
   "cell_type": "code",
   "execution_count": 12,
   "id": "7aeec871",
   "metadata": {},
   "outputs": [
    {
     "data": {
      "text/plain": [
       "array([[1.22094548e-04+0.00039095j, 6.31444966e-05+0.00023679j],\n",
       "       [5.94477405e-05+0.00024739j, 8.33536698e-05+0.00041058j]])"
      ]
     },
     "execution_count": 12,
     "metadata": {},
     "output_type": "execute_result"
    }
   ],
   "source": [
    "-sig.sum(axis=0)-sigma_1"
   ]
  },
  {
   "cell_type": "code",
   "execution_count": 13,
   "id": "fd80d078",
   "metadata": {},
   "outputs": [],
   "source": [
    "class Symmetrizer:\n",
    "\n",
    "    def __init__(self, nx, no):\n",
    "        self.N = (no*(no-1))//2\n",
    "        self.nx, self.no = nx, no\n",
    "        self.diag_idxs = np.arange(self.no)\n",
    "        self.triu_idxs = np.triu_indices(no, k=1)\n",
    "        self.tril_idxs = np.tril_indices(no, k=-1)\n",
    "    \n",
    "    def get_x_d(self, g_xaa):\n",
    "        x_d = g_xaa[:, self.diag_idxs, self.diag_idxs].flatten()\n",
    "        return x_d\n",
    "\n",
    "    def set_x_d(self, g_xaa, x_d):\n",
    "        g_xaa[:, self.diag_idxs, self.diag_idxs] = x_d.reshape((self.nx, self.no))\n",
    "        return g_xaa\n",
    "\n",
    "    def get_x_u(self, g_xaa):\n",
    "        x_u = g_xaa[:, self.triu_idxs[0], self.triu_idxs[1]].flatten()\n",
    "        return x_u\n",
    "\n",
    "    def set_x_u(self, g_xaa, x_u):\n",
    "        g_xaa[:, self.triu_idxs[0], self.triu_idxs[1]] = x_u.reshape((self.nx, self.N))\n",
    "        g_xaa[:, self.tril_idxs[0], self.tril_idxs[1]] = g_xaa[:, self.triu_idxs[0], self.triu_idxs[1]].conj()\n",
    "        #g_xaa += np.transpose(g_xaa, axes=(0,2,1)).conj()\n",
    "        return g_xaa\n",
    "\n",
    "    def get_diag_indices(self): return self.diag_idxs\n",
    "    def get_triu_indices(self): return self.triu_idxs"
   ]
  },
  {
   "cell_type": "code",
   "execution_count": 194,
   "id": "dc21bd6b",
   "metadata": {},
   "outputs": [],
   "source": [
    "def constrained_lstsq_dlr_from_tau(d,         # dlr class\n",
    "                                   tau_i,     # tau mesh\n",
    "                                   beta,      # inverse temperature\n",
    "                                   g_iaa,     # G data\n",
    "                                   g0_iaa,    # G0 data\n",
    "                                   sigma_moments, # high-freq moments of Σ\n",
    "                                   ftol=1e-9, \n",
    "                                   symmetrizer=None):\n",
    "    \n",
    "    \n",
    "    \n",
    "    \n",
    "    \n",
    "    nx = len(d)\n",
    "    ni, no, _ = g_iaa.shape\n",
    "    shape_xaa = (nx, no, no)\n",
    "    N = (no*(no-1))//2\n",
    "\n",
    "    dtype = complex\n",
    "    nX = nx * (no + 2*N)\n",
    "    \n",
    "    # precompute Mkl\n",
    "    def compute_mkl(d):\n",
    "        Mkl = np.zeros((len(d), len(d)))\n",
    "        for iwk, wk in enumerate(d.dlrrf):\n",
    "            for iwl, wl in enumerate(d.dlrrf):\n",
    "                K0wk, Kbwk = kernel(np.array([0,1]), np.array([wk])).flatten()\n",
    "                K0wl, Kbwl = kernel(np.array([0,1]), np.array([wl])).flatten()\n",
    "                if np.fabs(wk+wl) < 1e-13:\n",
    "                    Mkl[iwk,iwl] = K0wk*K0wl\n",
    "                else:\n",
    "                    Mkl[iwk, iwl] = (1/(beta*(wk+wl)))*(K0wk*K0wl - Kbwk*Kbwl)\n",
    "        return Mkl\n",
    "    \n",
    "    # fold and unfold complex numbers\n",
    "    \n",
    "    def merge_re_im(x):\n",
    "        x_d, x_u = x[:nx*no], x[nx*no:]\n",
    "        re, im = np.split(x_u, 2)\n",
    "        x_u = re + 1.j * im\n",
    "        return x_d, x_u\n",
    "\n",
    "    def split_re_im(x_d, x_u):\n",
    "        return np.concatenate((\n",
    "            np.array(x_d.real, dtype=float),\n",
    "            np.array(x_u.real, dtype=float),\n",
    "            np.array(x_u.imag, dtype=float)))\n",
    "                                   \n",
    "    # Greens function <-> vector conversion\n",
    "\n",
    "    sym = symmetrizer if symmetrizer is not None else Symmetrizer(nx, no)\n",
    "    \n",
    "    def g_from_x(x):\n",
    "        x_d, x_u = merge_re_im(x)\n",
    "        g_xaa = np.zeros((nx, no, no), dtype=dtype)\n",
    "        sym.set_x_u(g_xaa, x_u)\n",
    "        sym.set_x_d(g_xaa, x_d)\n",
    "        return g_xaa\n",
    "                        \n",
    "    def x_from_g(g_xaa):\n",
    "        x_d = sym.get_x_d(g_xaa)\n",
    "        x_u = sym.get_x_u(g_xaa)\n",
    "        x = split_re_im(x_d, x_u)\n",
    "        return x\n",
    "    \n",
    "    \n",
    "    # constraint\n",
    "    sig_infty, sigma_1 = sigma_moments[0], sigma_moments[1]\n",
    "        \n",
    "    def mat_vec(mat):\n",
    "        v_d = sym.get_x_d(mat[None, ...]).real\n",
    "        v_u = sym.get_x_u(mat[None, ...])\n",
    "        v = split_re_im(v_d, v_u)\n",
    "        return v\n",
    "        \n",
    "    def constraint_func(x):\n",
    "        sig = g_from_x(x)\n",
    "        sig_xaa = d.lstsq_dlr_from_matsubara(freq, sig-sig_infty, beta)\n",
    "        mat = -sig_xaa.sum(axis=0)\n",
    "        vec = mat_vec(mat)\n",
    "        return vec\n",
    "    \n",
    "    bound = mat_vec(sigma_1)\n",
    "    \n",
    "    constraints = (NonlinearConstraint(constraint_func,\n",
    "                                           bound, bound))\n",
    "\n",
    "\n",
    "    # target function\n",
    "    def dyson_difference(sigk):\n",
    "        sigk_iwaa = g_from_x(sigk)\n",
    "        #  G - G0 - G0*Σ*G = 0 done on the DLR nodes\n",
    "        rk_iwaa = gk_iwaa - g0k_iwaa[:,...]@sigk_iwaa[:,...]@gk_iwaa[:,...]  - g0k_iwaa\n",
    "        # compute DLR of rk_iwaa\n",
    "        r_xaa = d.lstsq_dlr_from_matsubara(freq, rk_iwaa, beta)\n",
    "        # ||R||^2 = r^T @ M @ r\n",
    "        R = np.einsum('nmk,kl,lnm->nm', r_xaa.T, Mkl, r_xaa).flatten()\n",
    "        return R\n",
    "        \n",
    "    def target_function(x):\n",
    "        y = dyson_difference(x)\n",
    "        return np.linalg.norm(y)\n",
    "        \n",
    "    \n",
    "    # compute Mkl\n",
    "    Mkl = compute_mkl(d)\n",
    "    freq = d.get_matsubara_frequencies(beta)\n",
    "    \n",
    "    # dlr fit to G and G0\n",
    "    g_xaa = d.lstsq_dlr_from_tau(tau_i, g_iaa, beta)\n",
    "    g0_xaa = d.lstsq_dlr_from_tau(tau_i, g0_iaa, beta)\n",
    "    \n",
    "    # compute and obtain initial Σ\n",
    "    gk_iwaa = d.matsubara_from_dlr(g_xaa, beta)\n",
    "    g0k_iwaa = d.matsubara_from_dlr(g0_xaa, beta)\n",
    "    sigk_iwaa = np.linalg.inv(g0k_iwaa[:,...])-np.linalg.inv(gk_iwaa[:,...])\n",
    "    \n",
    "    x_init = x_from_g(sigk_iwaa)\n",
    "\n",
    "    # minimize\n",
    "    sol = minimize(target_function, \n",
    "                   x_init,\n",
    "        method='SLSQP', \n",
    "        constraints=constraints,\n",
    "        options=dict(ftol=ftol, maxiter=1000, disp=True),\n",
    "        )\n",
    "    print(sol.success, sol.message)\n",
    "    \n",
    "    sigk_iwaa = g_from_x(sol.x)\n",
    "    \n",
    "    sig_xaa = d.lstsq_dlr_from_matsubara(freq, sigk_iwaa-sig_infty, beta)\n",
    "    print(f'Σ1 constraint diff: {np.max(np.abs(-sig_xaa.sum(axis=0)-sigma_1)):.4e}')\n",
    "\n",
    "    return sig_xaa, sol"
   ]
  },
  {
   "cell_type": "code",
   "execution_count": 195,
   "id": "1bff9a1b",
   "metadata": {},
   "outputs": [],
   "source": [
    "G0_tau = make_gf_from_fourier(G0_iw)\n",
    "tau_i = np.array([x.real for x in G0_tau.mesh])\n",
    "iw_i  = np.array([complex(x) for x in Sigma_iw_ref.mesh])"
   ]
  },
  {
   "cell_type": "code",
   "execution_count": null,
   "id": "69be8f78",
   "metadata": {},
   "outputs": [],
   "source": [
    "tol = 1e-4\n",
    "G_tau_qmc= G_tau_ref.copy()\n",
    "for block, _ in G_tau_qmc: G_tau_qmc[block].data[:] += np.random.normal(scale=tol, size=G_tau_qmc[block].data.shape)\n",
    "d = dlr(lamb=10,eps=1e-6)\n",
    "\n",
    "sig_xaa, sol = constrained_lstsq_dlr_from_tau(d, \n",
    "                                   tau_i, \n",
    "                                   beta,\n",
    "                                   G_tau_qmc['up'].data,\n",
    "                                   G0_tau['up'].data,\n",
    "                                   sigma_moments['up'],\n",
    "                                   ftol=1e-9, \n",
    "                                   symmetrizer=None)\n",
    "Sigma_iw_fit = Sigma_iw_ref.copy()\n",
    "Sigma_iw_fit['up'].data[:] = d.eval_dlr_freq(sig_xaa, iw_i, beta) +sigma_moments['up'][0]"
   ]
  },
  {
   "cell_type": "code",
   "execution_count": null,
   "id": "4fc8816c",
   "metadata": {},
   "outputs": [],
   "source": [
    "iwn = np.array([complex(x) for x in Sigma_iw_ref.mesh])\n",
    "fig, ax = plt.subplots(2,2,sharex=True,)\n",
    "ax[0,0].plot(iwn.imag, Sigma_iw_ref['up'].data[:,0,0].real, label='exact')\n",
    "ax[0,0].plot(iwn.imag, Sigma_iw_fit['up'].data[:,0,0].real, label='fit')\n",
    "ax[0,0].set_ylabel('ReΣ')\n",
    "ax[1,0].semilogy(iwn.imag, np.abs(Sigma_iw_ref['up'].data[:,0,0].real-Sigma_iw_fit['up'].data[:,0,0].real))\n",
    "ax[1,0].set_ylabel('ΔReΣ')\n",
    "ax[1,0].set_xlabel('iωn')\n",
    "ax[0,0].legend()\n",
    "ax[0,1].plot(iwn.imag, Sigma_iw_ref['up'].data[:,0,0].imag, label='exact')\n",
    "ax[0,1].plot(iwn.imag, Sigma_iw_fit['up'].data[:,0,0].imag, label='fit')\n",
    "ax[0,1].set_ylabel('ImΣ')\n",
    "ax[1,1].semilogy(iwn.imag, np.abs(Sigma_iw_ref['up'].data[:,0,0].imag-Sigma_iw_fit['up'].data[:,0,0].imag))\n",
    "ax[1,1].set_ylabel('ΔImΣ')\n",
    "ax[1,1].set_xlabel('iωn')\n",
    "ax[0,0].legend()\n",
    "ax[0,0].set_xlim(0,60)\n",
    "plt.subplots_adjust(hspace=0.25, wspace=0.5)\n",
    "plt.show()"
   ]
  },
  {
   "cell_type": "code",
   "execution_count": null,
   "id": "e33d2a8b",
   "metadata": {},
   "outputs": [],
   "source": []
  }
 ],
 "metadata": {
  "kernelspec": {
   "display_name": "Python 3 (ipykernel)",
   "language": "python",
   "name": "python3"
  },
  "language_info": {
   "codemirror_mode": {
    "name": "ipython",
    "version": 3
   },
   "file_extension": ".py",
   "mimetype": "text/x-python",
   "name": "python",
   "nbconvert_exporter": "python",
   "pygments_lexer": "ipython3",
   "version": "3.10.7"
  }
 },
 "nbformat": 4,
 "nbformat_minor": 5
}
